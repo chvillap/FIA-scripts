{
 "cells": [
  {
   "cell_type": "markdown",
   "metadata": {},
   "source": [
    "# Search Demo"
   ]
  },
  {
   "cell_type": "markdown",
   "metadata": {},
   "source": [
    "A visual demonstration of some search algorithms used in AI.\n",
    "\n",
    "* **Uninformed search algorithms**: explore the search space having no information about the problem besides its definition.\n",
    "* Examples:\n",
    "    1. Breadth First Search\n",
    "    2. Depth First Search\n",
    "    3. Depth Limited Search\n",
    "    4. Iterative Deepening Search\n",
    "    5. Uniform Cost Search\n",
    "\n",
    "\n",
    "* **Informed search algorithms**: explore the search space using some heuristic about the problem in order to efficiently find a solution.\n",
    "* Examples:\n",
    "    1. Best First Search\n",
    "    2. A\\* Search\n",
    "    3. Recursive Best First Search"
   ]
  },
  {
   "cell_type": "code",
   "execution_count": 1,
   "metadata": {
    "collapsed": true
   },
   "outputs": [],
   "source": [
    "from search import *"
   ]
  },
  {
   "cell_type": "markdown",
   "metadata": {},
   "source": [
    "## Setting a problem"
   ]
  },
  {
   "cell_type": "markdown",
   "metadata": {},
   "source": [
    "Let's say we want to find the shortest path between two Romanian cities, given a map represented as an undirected weighted graph where each node is a city and each weighted edge is a road linking two cities (the edge weight being their distance)."
   ]
  },
  {
   "cell_type": "code",
   "execution_count": 2,
   "metadata": {
    "collapsed": true
   },
   "outputs": [],
   "source": [
    "# Undirected weighted graph of cities and their roads and distances.\n",
    "romania_map = UndirectedGraph(dict(\n",
    "    Arad=dict(Zerind=75, Sibiu=140, Timisoara=118),\n",
    "    Bucharest=dict(Urziceni=85, Pitesti=101, Giurgiu=90, Fagaras=211),\n",
    "    Craiova=dict(Drobeta=120, Rimnicu=146, Pitesti=138),\n",
    "    Drobeta=dict(Mehadia=75),\n",
    "    Eforie=dict(Hirsova=86),\n",
    "    Fagaras=dict(Sibiu=99),\n",
    "    Hirsova=dict(Urziceni=98),\n",
    "    Iasi=dict(Vaslui=92, Neamt=87),\n",
    "    Lugoj=dict(Timisoara=111, Mehadia=70),\n",
    "    Oradea=dict(Zerind=71, Sibiu=151),\n",
    "    Pitesti=dict(Rimnicu=97),\n",
    "    Rimnicu=dict(Sibiu=80),\n",
    "    Urziceni=dict(Vaslui=142)))\n",
    "\n",
    "# City locations as (x, y) points.\n",
    "romania_map.locations = dict(\n",
    "    Arad=(91, 492), Bucharest=(400, 327), Craiova=(253, 288),\n",
    "    Drobeta=(165, 299), Eforie=(562, 293), Fagaras=(305, 449),\n",
    "    Giurgiu=(375, 270), Hirsova=(534, 350), Iasi=(473, 506),\n",
    "    Lugoj=(165, 379), Mehadia=(168, 339), Neamt=(406, 537),\n",
    "    Oradea=(131, 571), Pitesti=(320, 368), Rimnicu=(233, 410),\n",
    "    Sibiu=(207, 457), Timisoara=(94, 410), Urziceni=(456, 350),\n",
    "    Vaslui=(509, 444), Zerind=(108, 531))"
   ]
  },
  {
   "cell_type": "markdown",
   "metadata": {},
   "source": [
    "Let's say we want to start exploring from Arad and we want to reach Bucharest. In such case our problem is defined as:"
   ]
  },
  {
   "cell_type": "code",
   "execution_count": 3,
   "metadata": {
    "collapsed": true
   },
   "outputs": [],
   "source": [
    "romania_problem = GraphProblem('Arad', 'Bucharest', romania_map)"
   ]
  },
  {
   "cell_type": "markdown",
   "metadata": {},
   "source": [
    "## Viewing the map"
   ]
  },
  {
   "cell_type": "code",
   "execution_count": 4,
   "metadata": {
    "collapsed": true
   },
   "outputs": [],
   "source": [
    "%matplotlib inline\n",
    "\n",
    "import warnings\n",
    "warnings.filterwarnings('ignore')\n",
    "\n",
    "# For plotting.\n",
    "import networkx as nx\n",
    "import matplotlib.pyplot as plt\n",
    "from matplotlib import lines\n",
    "\n",
    "# For interactivity.\n",
    "from ipywidgets import interact\n",
    "import ipywidgets as widgets\n",
    "from IPython.display import display\n",
    "\n",
    "import time"
   ]
  },
  {
   "cell_type": "markdown",
   "metadata": {},
   "source": [
    "We create the weighted graph of Romania using the networkx module. Then we define a function to show this graph."
   ]
  },
  {
   "cell_type": "code",
   "execution_count": 5,
   "metadata": {
    "collapsed": true
   },
   "outputs": [],
   "source": [
    "romania_locations = romania_map.locations"
   ]
  },
  {
   "cell_type": "code",
   "execution_count": 6,
   "metadata": {
    "collapsed": true
   },
   "outputs": [],
   "source": [
    "G = nx.Graph()\n",
    "\n",
    "node_labels = dict()\n",
    "node_colors = dict()\n",
    "edge_labels = dict()\n",
    "\n",
    "for n, p in romania_locations.items():\n",
    "    G.add_node(n)\n",
    "    node_labels[n] = n\n",
    "    node_colors[n] = 'white'\n",
    "\n",
    "initial_node_colors = dict(node_colors)\n",
    "    \n",
    "node_label_pos = {k: [v[0], v[1] - 10] for k, v in romania_locations.items()}\n",
    "\n",
    "for node in romania_map.nodes():\n",
    "    connections = romania_map.get(node)\n",
    "\n",
    "    for connection in connections.keys():\n",
    "        distance = connections[connection]\n",
    "        G.add_edge(node, connection)\n",
    "        edge_labels[(node, connection)] = distance"
   ]
  },
  {
   "cell_type": "code",
   "execution_count": 7,
   "metadata": {
    "collapsed": true
   },
   "outputs": [],
   "source": [
    "def show_map(node_colors):\n",
    "    \"\"\"Displays the map as a colored graph.\n",
    "    \"\"\"\n",
    "    plt.figure(figsize=(16, 11))\n",
    "\n",
    "    nx.draw(G, pos=romania_locations,\n",
    "            node_color=[node_colors[node] for node in G.nodes()])\n",
    "\n",
    "    node_label_handles = nx.draw_networkx_labels(\n",
    "        G, pos=node_label_pos, labels=node_labels, font_size=14)\n",
    "\n",
    "    for label in node_label_handles.values():\n",
    "        label.set_bbox(dict(facecolor='white', edgecolor='none'))\n",
    "\n",
    "    nx.draw_networkx_edge_labels(\n",
    "        G, pos=romania_locations, edge_labels=edge_labels, font_size=14)\n",
    "\n",
    "    white_circle = lines.Line2D([], [], color='white', marker='o', markersize=15, markerfacecolor='white')\n",
    "    orange_circle = lines.Line2D([], [], color='white', marker='o', markersize=15, markerfacecolor='orange')\n",
    "    red_circle = lines.Line2D([], [], color='white', marker='o', markersize=15, markerfacecolor='red')\n",
    "    gray_circle = lines.Line2D([], [], color='white', marker='o', markersize=15, markerfacecolor='gray')\n",
    "\n",
    "    plt.legend((white_circle, orange_circle, red_circle, gray_circle),\n",
    "               ('Unexplored', 'Frontier', 'Being explored', 'Explored'),\n",
    "               numpoints=1,prop={'size':16}, loc=(.8,.75))\n",
    "\n",
    "    plt.show()"
   ]
  },
  {
   "cell_type": "code",
   "execution_count": 8,
   "metadata": {},
   "outputs": [
    {
     "data": {
      "image/png": "[encoded data removed]",
      "text/plain": [
       "<matplotlib.figure.Figure at 0x7f742ffe7f98>"
      ]
     },
     "metadata": {},
     "output_type": "display_data"
    }
   ],
   "source": [
    "show_map(node_colors)"
   ]
  },
  {
   "cell_type": "markdown",
   "metadata": {},
   "source": [
    "## Visualizing  the search algorithms"
   ]
  },
  {
   "cell_type": "markdown",
   "metadata": {},
   "source": [
    "First we define some functions to handle the display of visual elements and the user interactivity.\n",
    "\n",
    "Since we want to interact with the visuals, some changes had to be done in the implementation of the algorithms."
   ]
  },
  {
   "cell_type": "code",
   "execution_count": 9,
   "metadata": {
    "collapsed": true
   },
   "outputs": [],
   "source": [
    "def final_path_colors(problem, solution):\n",
    "    \"\"\"Returns a dict in which nodes from the solution path have the green color.\n",
    "    \"\"\"\n",
    "    final_colors = dict(initial_node_colors)\n",
    "    final_colors[problem.initial] = 'green'\n",
    "    for node in solution:\n",
    "        final_colors[node] = 'green'\n",
    "    return final_colors"
   ]
  },
  {
   "cell_type": "code",
   "execution_count": 10,
   "metadata": {},
   "outputs": [],
   "source": [
    "def display_visual(user_input, algorithm=None, problem=None):\n",
    "    \"\"\"Controls visual elements and user interactions.\n",
    "    \"\"\"\n",
    "    if user_input == False:\n",
    "        def slider_callback(iteration):\n",
    "            try:\n",
    "                show_map(all_node_colors[iteration])\n",
    "            except:\n",
    "                pass\n",
    "        def visualize_callback(Visualize):\n",
    "            if Visualize is True:\n",
    "                button.value = False\n",
    "\n",
    "                global all_node_colors\n",
    "\n",
    "                iterations, all_node_colors, node=algorithm(problem)\n",
    "                solution = node.solution()\n",
    "                all_node_colors.append(final_path_colors(problem, solution))\n",
    "\n",
    "                slider.max = len(all_node_colors) - 1\n",
    "\n",
    "                for i in range(slider.max + 1):\n",
    "                    slider.value = i\n",
    "\n",
    "        slider = widgets.IntSlider(min=0, max=1, step=1, value=0)\n",
    "        slider_visual = widgets.interactive(slider_callback, iteration = slider)\n",
    "        display(slider_visual)\n",
    "\n",
    "        button = widgets.ToggleButton(value=False)\n",
    "        button_visual = widgets.interactive(visualize_callback, Visualize=button)\n",
    "        display(button_visual)\n",
    "\n",
    "    if user_input == True:\n",
    "        node_colors = dict(initial_node_colors)\n",
    "        if algorithm == None:\n",
    "            algorithms = {\n",
    "                'Breadth-First Search': breadth_first_search,\n",
    "                'Depth-First Tree Search': depth_first_search,\n",
    "                'Uniform Cost Search': uniform_cost_search,\n",
    "                'A* Search': astar_search,\n",
    "            }\n",
    "            algo_dropdown = widgets.Dropdown(description='Search algorithm: ',\n",
    "                                             options=sorted(list(algorithms.keys())),\n",
    "                                             value='Breadth-First Search')\n",
    "            display(algo_dropdown)\n",
    "\n",
    "        def slider_callback(iteration):\n",
    "            try:\n",
    "                show_map(all_node_colors[iteration])\n",
    "            except:\n",
    "                pass\n",
    "\n",
    "        def visualize_callback(Visualize):\n",
    "            if Visualize is True:\n",
    "                button.value = False\n",
    "\n",
    "                problem = GraphProblem(start_dropdown.value, end_dropdown.value, romania_map)\n",
    "                global all_node_colors\n",
    "\n",
    "                if algorithm == None:\n",
    "                    user_algorithm = algorithms[algo_dropdown.value]\n",
    "\n",
    "                iterations, all_node_colors, node = user_algorithm(problem)\n",
    "                solution = node.solution()\n",
    "                all_node_colors.append(final_path_colors(problem, solution))\n",
    "\n",
    "                slider.max = len(all_node_colors) - 1\n",
    "\n",
    "                for i in range(slider.max + 1):\n",
    "                    slider.value = i\n",
    "\n",
    "        start_dropdown = widgets.Dropdown(description='Start city: ',\n",
    "                                          options=sorted(list(node_colors.keys())),\n",
    "                                          value='Arad')\n",
    "        display(start_dropdown)\n",
    "\n",
    "        end_dropdown = widgets.Dropdown(description='Goal city: ',\n",
    "                                        options=sorted(list(node_colors.keys())),\n",
    "                                        value='Fagaras')\n",
    "        display(end_dropdown)\n",
    "\n",
    "        button = widgets.ToggleButton(value=False)\n",
    "        button_visual = widgets.interactive(visualize_callback, Visualize=button)\n",
    "        display(button_visual)\n",
    "\n",
    "        slider = widgets.IntSlider(min=0, max=1, step=1, value=0)\n",
    "        slider_visual = widgets.interactive(slider_callback, iteration=slider)\n",
    "        display(slider_visual)"
   ]
  },
  {
   "cell_type": "markdown",
   "metadata": {},
   "source": [
    "### Breadth-First Search (modified)"
   ]
  },
  {
   "cell_type": "code",
   "execution_count": 11,
   "metadata": {
    "collapsed": true
   },
   "outputs": [],
   "source": [
    "def graph_search(problem, frontier):\n",
    "    \"\"\"Basic graph search algorithm.\n",
    "    \"\"\"\n",
    "    iterations = 0\n",
    "    all_node_colors = []\n",
    "    node_colors = dict(initial_node_colors)\n",
    "\n",
    "    node = Node(problem.initial)\n",
    "    node_colors[node.state] = 'red'\n",
    "    iterations += 1\n",
    "    all_node_colors.append(dict(node_colors))\n",
    "\n",
    "    if problem.goal_test(node.state):\n",
    "        node_colors[node.state] = 'green'\n",
    "        iterations += 1\n",
    "        all_node_colors.append(dict(node_colors))\n",
    "        return iterations, all_node_colors, node\n",
    "\n",
    "    frontier.append(node)\n",
    "    node_colors[node.state] = 'orange'\n",
    "    iterations += 1\n",
    "    all_node_colors.append(dict(node_colors))\n",
    "\n",
    "    explored = set()\n",
    "    while frontier:\n",
    "        node = frontier.pop()\n",
    "        node_colors[node.state] = 'red'\n",
    "        iterations += 1\n",
    "        all_node_colors.append(dict(node_colors))\n",
    "\n",
    "        explored.add(node.state)\n",
    "\n",
    "        for child in node.expand(problem):\n",
    "            if child.state not in explored and child not in frontier:\n",
    "                if problem.goal_test(child.state):\n",
    "                    node_colors[child.state] = 'green'\n",
    "                    iterations += 1\n",
    "                    all_node_colors.append(dict(node_colors))\n",
    "                    return iterations, all_node_colors, child\n",
    "\n",
    "                frontier.append(child)\n",
    "                node_colors[child.state] = 'orange'\n",
    "                iterations += 1\n",
    "                all_node_colors.append(dict(node_colors))\n",
    "\n",
    "        node_colors[node.state] = 'gray'\n",
    "        iterations += 1\n",
    "        all_node_colors.append(dict(node_colors))\n",
    "    return None"
   ]
  },
  {
   "cell_type": "code",
   "execution_count": 12,
   "metadata": {
    "collapsed": true
   },
   "outputs": [],
   "source": [
    "def breadth_first_search(problem):\n",
    "    \"\"\"Searches the shallowest nodes in the search graph first.\n",
    "    \"\"\"\n",
    "    return graph_search(problem, FIFOQueue())"
   ]
  },
  {
   "cell_type": "code",
   "execution_count": 13,
   "metadata": {},
   "outputs": [
    {
     "name": "stderr",
     "output_type": "stream",
     "text": [
      "Widget Javascript not detected.  It may not be installed or enabled properly.\n"
     ]
    },
    {
     "data": {
      "application/vnd.jupyter.widget-view+json": {
       "model_id": "6573f84314e243beae52825fa52fa06a"
      }
     },
     "metadata": {},
     "output_type": "display_data"
    },
    {
     "name": "stderr",
     "output_type": "stream",
     "text": [
      "Widget Javascript not detected.  It may not be installed or enabled properly.\n"
     ]
    },
    {
     "data": {
      "application/vnd.jupyter.widget-view+json": {
       "model_id": "622c9c86d9284c16bb02cfa2803b553c"
      }
     },
     "metadata": {},
     "output_type": "display_data"
    }
   ],
   "source": [
    "all_node_colors = []\n",
    "romania_problem = GraphProblem('Arad', 'Bucharest', romania_map)\n",
    "display_visual(user_input=False, algorithm=breadth_first_search, problem=romania_problem)"
   ]
  },
  {
   "cell_type": "markdown",
   "metadata": {},
   "source": [
    "The Breadth-First Search algorithm took **21** iterations to find a solution.\n",
    "\n",
    "This solution has a total cost of 140 + 99 + 211 = **450**."
   ]
  },
  {
   "cell_type": "markdown",
   "metadata": {},
   "source": [
    "### Depth-First Search (modified)"
   ]
  },
  {
   "cell_type": "code",
   "execution_count": 14,
   "metadata": {
    "collapsed": true
   },
   "outputs": [],
   "source": [
    "def depth_first_search(problem):\n",
    "    \"\"\"Searches the deepest nodes in the search graph first.\n",
    "    \"\"\"\n",
    "    return graph_search(problem, Stack())"
   ]
  },
  {
   "cell_type": "code",
   "execution_count": 15,
   "metadata": {},
   "outputs": [
    {
     "name": "stderr",
     "output_type": "stream",
     "text": [
      "Widget Javascript not detected.  It may not be installed or enabled properly.\n"
     ]
    },
    {
     "data": {
      "application/vnd.jupyter.widget-view+json": {
       "model_id": "83ea6b6bc7904be9b2da2230b80806c5"
      }
     },
     "metadata": {},
     "output_type": "display_data"
    },
    {
     "name": "stderr",
     "output_type": "stream",
     "text": [
      "Widget Javascript not detected.  It may not be installed or enabled properly.\n"
     ]
    },
    {
     "data": {
      "application/vnd.jupyter.widget-view+json": {
       "model_id": "3c9ed1b4e25240d68717797f328d80a2"
      }
     },
     "metadata": {},
     "output_type": "display_data"
    }
   ],
   "source": [
    "all_node_colors = []\n",
    "romania_problem = GraphProblem('Arad', 'Bucharest', romania_map)\n",
    "display_visual(user_input=False, algorithm=depth_first_search, problem=romania_problem)"
   ]
  },
  {
   "cell_type": "markdown",
   "metadata": {},
   "source": [
    "The Depth-First Search algorithm took **25** iterations to find a solution.\n",
    "\n",
    "This solution has a total cost of 118 + 111 + 70 + 75 + 120 + 138 + 101 = **733**."
   ]
  },
  {
   "cell_type": "markdown",
   "metadata": {},
   "source": [
    "### Uniform Cost Search (modified)"
   ]
  },
  {
   "cell_type": "code",
   "execution_count": 16,
   "metadata": {
    "collapsed": true
   },
   "outputs": [],
   "source": [
    "def best_first_graph_search(problem, f):\n",
    "    \"\"\"Searches the nodes with lower costs in the search graph first.\n",
    "    \"\"\"\n",
    "    iterations = 0\n",
    "    all_node_colors = []\n",
    "    node_colors = dict(initial_node_colors)\n",
    "\n",
    "    f = memoize(f, 'f')\n",
    "    node = Node(problem.initial)\n",
    "    node_colors[node.state] = 'red'\n",
    "    iterations += 1\n",
    "    all_node_colors.append(dict(node_colors))\n",
    "\n",
    "    if problem.goal_test(node.state):\n",
    "        node_colors[node.state] = 'green'\n",
    "        iterations += 1\n",
    "        all_node_colors.append(dict(node_colors))\n",
    "        return iterations, all_node_colors, node\n",
    "\n",
    "    frontier = PriorityQueue(min, f)\n",
    "    frontier.append(node)\n",
    "    node_colors[node.state] = 'orange'\n",
    "    iterations += 1\n",
    "    all_node_colors.append(dict(node_colors))\n",
    "\n",
    "    explored = set()\n",
    "    while frontier:\n",
    "        node = frontier.pop()\n",
    "        node_colors[node.state] = 'red'\n",
    "        iterations += 1\n",
    "        all_node_colors.append(dict(node_colors))\n",
    "\n",
    "        if problem.goal_test(node.state):\n",
    "            node_colors[node.state] = 'green'\n",
    "            iterations += 1\n",
    "            all_node_colors.append(dict(node_colors))\n",
    "            return iterations, all_node_colors, node\n",
    "\n",
    "        explored.add(node.state)\n",
    "        for child in node.expand(problem):\n",
    "            if child.state not in explored and child not in frontier:\n",
    "                frontier.append(child)\n",
    "                node_colors[child.state] = 'orange'\n",
    "                iterations += 1\n",
    "                all_node_colors.append(dict(node_colors))\n",
    "\n",
    "            elif child in frontier:\n",
    "                incumbent = frontier[child]\n",
    "                if f(child) < f(incumbent):\n",
    "                    del frontier[incumbent]\n",
    "                    frontier.append(child)\n",
    "                    node_colors[child.state] = 'orange'\n",
    "                    iterations += 1\n",
    "                    all_node_colors.append(dict(node_colors))\n",
    "\n",
    "        node_colors[node.state] = 'gray'\n",
    "        iterations += 1\n",
    "        all_node_colors.append(dict(node_colors))\n",
    "    return None"
   ]
  },
  {
   "cell_type": "code",
   "execution_count": 17,
   "metadata": {
    "collapsed": true
   },
   "outputs": [],
   "source": [
    "def uniform_cost_search(problem):\n",
    "    \"\"\"Searches the nodes with lower path costs in the search graph first.\n",
    "    \"\"\"\n",
    "    return best_first_graph_search(problem, lambda node: node.path_cost)"
   ]
  },
  {
   "cell_type": "code",
   "execution_count": 18,
   "metadata": {},
   "outputs": [
    {
     "name": "stderr",
     "output_type": "stream",
     "text": [
      "Widget Javascript not detected.  It may not be installed or enabled properly.\n"
     ]
    },
    {
     "data": {
      "application/vnd.jupyter.widget-view+json": {
       "model_id": "bf00b5403b914463999e1c28b33cd186"
      }
     },
     "metadata": {},
     "output_type": "display_data"
    },
    {
     "name": "stderr",
     "output_type": "stream",
     "text": [
      "Widget Javascript not detected.  It may not be installed or enabled properly.\n"
     ]
    },
    {
     "data": {
      "application/vnd.jupyter.widget-view+json": {
       "model_id": "b0b8049ffe2545f2898a2ee65e25892f"
      }
     },
     "metadata": {},
     "output_type": "display_data"
    }
   ],
   "source": [
    "all_node_colors = []\n",
    "romania_problem = GraphProblem('Arad', 'Bucharest', romania_map)\n",
    "display_visual(user_input=False, algorithm=uniform_cost_search, problem=romania_problem)"
   ]
  },
  {
   "cell_type": "markdown",
   "metadata": {},
   "source": [
    "The Uniform Cost Search algorithm took **41** iterations to find a solution.\n",
    "\n",
    "This solution has a total cost of 140 + 80 + 97 + 101 = **418**."
   ]
  },
  {
   "cell_type": "markdown",
   "metadata": {},
   "source": [
    "### A\\* Search"
   ]
  },
  {
   "cell_type": "markdown",
   "metadata": {},
   "source": [
    "Note: the heuristic function h(n) is by default the straight-line distance from a node's state to the goal state, as defined in **`search.GraphProblem`** class."
   ]
  },
  {
   "cell_type": "code",
   "execution_count": 19,
   "metadata": {
    "collapsed": true
   },
   "outputs": [],
   "source": [
    "def astar_search(problem, h=None):\n",
    "    \"\"\"A* heuristic search algorithm. It uses a heuristic function h which\n",
    "    estimates the lowest cost from the current node to a goal node.\n",
    "    \"\"\"\n",
    "    h = memoize(h or problem.h, 'h')\n",
    "    return best_first_graph_search(problem, lambda n: n.path_cost + h(n))"
   ]
  },
  {
   "cell_type": "code",
   "execution_count": 20,
   "metadata": {},
   "outputs": [
    {
     "name": "stderr",
     "output_type": "stream",
     "text": [
      "Widget Javascript not detected.  It may not be installed or enabled properly.\n"
     ]
    },
    {
     "data": {
      "application/vnd.jupyter.widget-view+json": {
       "model_id": "f4befc2c8a8a452a9288c4e07a0e1f3f"
      }
     },
     "metadata": {},
     "output_type": "display_data"
    },
    {
     "name": "stderr",
     "output_type": "stream",
     "text": [
      "Widget Javascript not detected.  It may not be installed or enabled properly.\n"
     ]
    },
    {
     "data": {
      "application/vnd.jupyter.widget-view+json": {
       "model_id": "f96c2949e2f248d0b95eda0bea9edc6b"
      }
     },
     "metadata": {},
     "output_type": "display_data"
    }
   ],
   "source": [
    "all_node_colors = []\n",
    "romania_problem = GraphProblem('Arad', 'Bucharest', romania_map)\n",
    "display_visual(user_input=False, algorithm=astar_search, problem=romania_problem)"
   ]
  },
  {
   "cell_type": "markdown",
   "metadata": {},
   "source": [
    "The Uniform Cost Search algorithm took **24** iterations to find a solution.\n",
    "\n",
    "This solution has a total cost of 140 + 80 + 97 + 101 = **418**."
   ]
  },
  {
   "cell_type": "markdown",
   "metadata": {},
   "source": [
    "**Conclusion**: the A\\* search algorithm had the best performance considering the trade-off between efficiency (finding a solution with less iterations) and effectiveness (finding a solution with the lowest cost). Uniform Cost search was effective, but not very efficient. Breadth-First search was efficient, but not effective. Depth-First search was neither efficient nor effective."
   ]
  },
  {
   "cell_type": "markdown",
   "metadata": {},
   "source": [
    "## General search app"
   ]
  },
  {
   "cell_type": "markdown",
   "metadata": {},
   "source": [
    "Below there is a simple app that uses the algorithms above to find a path linking any pair of Romanian cities in the graph. The user can choose the starting point, the destination and the search algorithm."
   ]
  },
  {
   "cell_type": "code",
   "execution_count": 21,
   "metadata": {},
   "outputs": [
    {
     "name": "stderr",
     "output_type": "stream",
     "text": [
      "Widget Javascript not detected.  It may not be installed or enabled properly.\n"
     ]
    },
    {
     "data": {
      "application/vnd.jupyter.widget-view+json": {
       "model_id": "71d205cdb0524ae6a79cf921b32e5d9f"
      }
     },
     "metadata": {},
     "output_type": "display_data"
    },
    {
     "name": "stderr",
     "output_type": "stream",
     "text": [
      "Widget Javascript not detected.  It may not be installed or enabled properly.\n"
     ]
    },
    {
     "data": {
      "application/vnd.jupyter.widget-view+json": {
       "model_id": "64f8e135024e4b46a0c3c2cc587a3b8c"
      }
     },
     "metadata": {},
     "output_type": "display_data"
    },
    {
     "name": "stderr",
     "output_type": "stream",
     "text": [
      "Widget Javascript not detected.  It may not be installed or enabled properly.\n"
     ]
    },
    {
     "data": {
      "application/vnd.jupyter.widget-view+json": {
       "model_id": "9c1f9df0c0aa465fae67925faa9d5766"
      }
     },
     "metadata": {},
     "output_type": "display_data"
    },
    {
     "name": "stderr",
     "output_type": "stream",
     "text": [
      "Widget Javascript not detected.  It may not be installed or enabled properly.\n"
     ]
    },
    {
     "data": {
      "application/vnd.jupyter.widget-view+json": {
       "model_id": "a20e69b0286e4e908fb1050efdc3586d"
      }
     },
     "metadata": {},
     "output_type": "display_data"
    },
    {
     "name": "stderr",
     "output_type": "stream",
     "text": [
      "Widget Javascript not detected.  It may not be installed or enabled properly.\n"
     ]
    },
    {
     "data": {
      "application/vnd.jupyter.widget-view+json": {
       "model_id": "4cd819fbb18540cf9d65dc3da1003273"
      }
     },
     "metadata": {},
     "output_type": "display_data"
    }
   ],
   "source": [
    "all_node_colors = []\n",
    "display_visual(user_input=True)"
   ]
  }
 ],
 "metadata": {
  "kernelspec": {
   "display_name": "Python 3",
   "language": "python",
   "name": "python3"
  },
  "language_info": {
   "codemirror_mode": {
    "name": "ipython",
    "version": 3
   },
   "file_extension": ".py",
   "mimetype": "text/x-python",
   "name": "python",
   "nbconvert_exporter": "python",
   "pygments_lexer": "ipython3",
   "version": "3.6.1"
  }
 },
 "nbformat": 4,
 "nbformat_minor": 2
}
