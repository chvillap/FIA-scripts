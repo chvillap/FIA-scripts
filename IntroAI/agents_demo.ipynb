{
 "cells": [
  {
   "cell_type": "markdown",
   "metadata": {},
   "source": [
    "# Agents Demo"
   ]
  },
  {
   "cell_type": "markdown",
   "metadata": {},
   "source": [
    "Implementation of a simple agent (a dog) that explores an environment (a garden) in search of food and water."
   ]
  },
  {
   "cell_type": "code",
   "execution_count": 1,
   "metadata": {
    "collapsed": true
   },
   "outputs": [],
   "source": [
    "from agents import Entity\n",
    "from agents import Agent\n",
    "from agents import Environment"
   ]
  },
  {
   "cell_type": "markdown",
   "metadata": {},
   "source": [
    "First we set up the environment, where agents get their perceptions from and execute their actions into. For this we create a class that extends **`agents.Environment`** and implement abstract methods such as `.give_perception()` and `.execute_action()`."
   ]
  },
  {
   "cell_type": "code",
   "execution_count": 2,
   "metadata": {
    "collapsed": true
   },
   "outputs": [],
   "source": [
    "class ParkEnvironment(Environment):\n",
    "    \"\"\"An environment where dogs can walk around freely.\n",
    "    \"\"\"\n",
    "\n",
    "    def give_perception(self, agent):\n",
    "        \"\"\"See: agents.Environment.give_perception()\n",
    "        \"\"\"\n",
    "        # Return a list of all entities at the agent's location.\n",
    "        entities = self.list_entities_at(agent.location)\n",
    "        print(entities)\n",
    "        return entities\n",
    "\n",
    "    def execute_action(self, agent, action):\n",
    "        \"\"\"See: agents.Environment.execute_action()\n",
    "        \"\"\"\n",
    "        # In this environment an agent can move, eat and drink.\n",
    "        # When something is eaten or drank, it is removed from the environment.\n",
    "        if action == 'move':\n",
    "            agent.move()\n",
    "        elif action == 'eat':\n",
    "            food = self.list_entities_at(agent.location, eclass=Food)\n",
    "            if len(food) > 0:\n",
    "                if agent.eat(food[0]):\n",
    "                    self.delete_entity(food[0])\n",
    "        elif action == 'drink':\n",
    "            water = self.list_entities_at(agent.location, eclass=Water)\n",
    "            if len(water) > 0:\n",
    "                if agent.drink(water[0]):\n",
    "                    self.delete_entity(water[0])\n",
    "\n",
    "    def exogenous_change(self):\n",
    "        \"\"\"See: agents.Environment.exogenous_change()\n",
    "        \"\"\"\n",
    "        # Nothing needs to be done here.\n",
    "        pass\n",
    "\n",
    "    def is_done(self):\n",
    "        \"\"\"See: agents.Environment.is_done()\n",
    "        \"\"\"\n",
    "        # By default, an environment is done when no agent is alive to interact with it.\n",
    "        # But we don't want to kill our dog, so the implementation is changed so that\n",
    "        # the garden is done when there is no more food or water in it.\n",
    "        no_edibles = not any(isinstance(entity, Food) or isinstance(entity, Water)\n",
    "                             for entity in self.entities)\n",
    "        dead_agents = not any(agent.is_alive() for agent in self.agents)\n",
    "        return no_edibles or dead_agents"
   ]
  },
  {
   "cell_type": "markdown",
   "metadata": {},
   "source": [
    "Now we create the entities the agent can interact with. They extend the **`agents.Entity`** class and need no particular implementation."
   ]
  },
  {
   "cell_type": "code",
   "execution_count": 3,
   "metadata": {
    "collapsed": true
   },
   "outputs": [],
   "source": [
    "class Food(Entity):\n",
    "    \"\"\"Dog food from a top brand.\n",
    "    \"\"\"\n",
    "    pass\n",
    "\n",
    "\n",
    "class Water(Entity):\n",
    "    \"\"\"Clean, fresh water.\n",
    "    \"\"\"\n",
    "    pass"
   ]
  },
  {
   "cell_type": "markdown",
   "metadata": {},
   "source": [
    "And now we create the agent and specify the actions it can perform in the environment. For this we create a class that extends **`agents.Agent`**."
   ]
  },
  {
   "cell_type": "code",
   "execution_count": 4,
   "metadata": {
    "collapsed": true
   },
   "outputs": [],
   "source": [
    "class DogAgent(Agent):\n",
    "    \"\"\"A healthy dog that can eat and drink as much as it wants to.\n",
    "    \"\"\"\n",
    "\n",
    "    def move(self):\n",
    "        self.location += 1\n",
    "        print('{}: moved to location {}'.format(self, self.location))\n",
    "\n",
    "    def eat(self, entity):\n",
    "        if isinstance(entity, Food):\n",
    "            print('{}: ate food at location {}'.format(self, self.location))\n",
    "            return True\n",
    "        return False\n",
    "\n",
    "    def drink(self, entity):\n",
    "        if isinstance(entity, Water):\n",
    "            print('{}: drank water at location {}'.format(self, self.location))\n",
    "            return True\n",
    "        return False"
   ]
  },
  {
   "cell_type": "markdown",
   "metadata": {},
   "source": [
    "Lastly, we specify the agent program, which receives perceptions and returns an action."
   ]
  },
  {
   "cell_type": "code",
   "execution_count": 5,
   "metadata": {
    "collapsed": true
   },
   "outputs": [],
   "source": [
    "def program(perceptions):\n",
    "    \"\"\"Returns a string that represents the action to perform, based on the perceptions\n",
    "    acquired from the environment.\n",
    "    \"\"\"\n",
    "    for p in perceptions:\n",
    "        if isinstance(p, Food):\n",
    "            return 'eat'\n",
    "        if isinstance(p, Water):\n",
    "            return 'drink'\n",
    "    return 'move'"
   ]
  },
  {
   "cell_type": "markdown",
   "metadata": {},
   "source": [
    "Finally, we instantiate all the entities and run the agent program in the environment."
   ]
  },
  {
   "cell_type": "code",
   "execution_count": 6,
   "metadata": {},
   "outputs": [
    {
     "data": {
      "text/plain": [
       "True"
      ]
     },
     "execution_count": 6,
     "metadata": {},
     "output_type": "execute_result"
    }
   ],
   "source": [
    "dog = DogAgent(program)\n",
    "dog.is_alive()"
   ]
  },
  {
   "cell_type": "code",
   "execution_count": 7,
   "metadata": {},
   "outputs": [],
   "source": [
    "food = Food()\n",
    "water = Water()"
   ]
  },
  {
   "cell_type": "code",
   "execution_count": 8,
   "metadata": {},
   "outputs": [],
   "source": [
    "park = ParkEnvironment()\n",
    "park.add_entity(dog, 0)\n",
    "park.add_entity(food, 3)\n",
    "park.add_entity(water, 7)"
   ]
  },
  {
   "cell_type": "code",
   "execution_count": 9,
   "metadata": {},
   "outputs": [
    {
     "name": "stdout",
     "output_type": "stream",
     "text": [
      "[<DogAgent>]\n",
      "<DogAgent>: moved to location 1\n",
      "[<DogAgent>]\n",
      "<DogAgent>: moved to location 2\n",
      "[<DogAgent>]\n",
      "<DogAgent>: moved to location 3\n",
      "[<DogAgent>, <Food>]\n",
      "<DogAgent>: ate food at location 3\n",
      "[<DogAgent>]\n",
      "<DogAgent>: moved to location 4\n",
      "[<DogAgent>]\n",
      "<DogAgent>: moved to location 5\n",
      "[<DogAgent>]\n",
      "<DogAgent>: moved to location 6\n",
      "[<DogAgent>]\n",
      "<DogAgent>: moved to location 7\n",
      "[<DogAgent>, <Water>]\n",
      "<DogAgent>: drank water at location 7\n"
     ]
    }
   ],
   "source": [
    "park.run(steps=10)"
   ]
  },
  {
   "cell_type": "code",
   "execution_count": 10,
   "metadata": {},
   "outputs": [
    {
     "data": {
      "text/plain": [
       "True"
      ]
     },
     "execution_count": 10,
     "metadata": {},
     "output_type": "execute_result"
    }
   ],
   "source": [
    "dog.is_alive()"
   ]
  }
 ],
 "metadata": {
  "kernelspec": {
   "display_name": "Python 3",
   "language": "python",
   "name": "python3"
  },
  "language_info": {
   "codemirror_mode": {
    "name": "ipython",
    "version": 3
   },
   "file_extension": ".py",
   "mimetype": "text/x-python",
   "name": "python",
   "nbconvert_exporter": "python",
   "pygments_lexer": "ipython3",
   "version": "3.6.1"
  }
 },
 "nbformat": 4,
 "nbformat_minor": 2
}
